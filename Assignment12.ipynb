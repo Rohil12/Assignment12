{
 "cells": [
  {
   "cell_type": "code",
   "execution_count": 1,
   "id": "64379948-5e9a-4a75-aeb3-b115c75c3379",
   "metadata": {},
   "outputs": [],
   "source": [
    "#Q.1\n",
    "# Multiprocessing\n",
    "# It's a technique that allows you to create and manage multiple processes within a python program.\n",
    "# Each process function as an independent worker, with its own memory space and python interpreter,enabling true parallelism\n",
    "# This is in contrast to multithreading, which uses multiple threads within a single process, sharing memory and being subject to the global interpreter lock (GIL)\n",
    "# Advantages \n",
    "#1. Harnessing multiple CPU cores\n",
    "#2. Bypassing the GIL Global Interpreter Lock in python limits the multithreading performance by allowing only one thread to execute python bytecode at a time.\n"
   ]
  },
  {
   "cell_type": "code",
   "execution_count": 2,
   "id": "aa474caf-97d9-473f-9b64-d8abd1e231ff",
   "metadata": {},
   "outputs": [],
   "source": [
    "# Q.2\n",
    "# Muthithreading only occupies one process to run multiple threds for completion of tasks. The threads share the same resources for the process\n",
    "# advantages : Easy and faster to create than multiprocess\n",
    "# disadvantage: A crash or error in one thread can affect other threads, sharing resources can lead to bottlenecks.\n",
    "\n",
    "#Multiprocessing Ultilizes multiple processors or cores to run multiple process simultaneosuly.\n",
    "# Each process has it's own memory and resources to utilize for the tasks.\n",
    "# Advantage: Improves isolation between processes, prevents crashes in one process from affecting others.\n",
    "# Disadvantage : creating and managing processes is more complex and resources-instensive."
   ]
  },
  {
   "cell_type": "code",
   "execution_count": 5,
   "id": "f1eebfd9-be5d-4d6d-9cbc-8105c8a84cb0",
   "metadata": {},
   "outputs": [
    {
     "name": "stdout",
     "output_type": "stream",
     "text": [
      "This is a new process!\n"
     ]
    }
   ],
   "source": [
    "# Q.3\n",
    "import multiprocessing\n",
    "\n",
    "def my_process():\n",
    "    print(\"This is a new process!\")\n",
    "\n",
    "if __name__=='__main__':\n",
    "    p= multiprocessing.Process(target=my_process)\n",
    "    p.start()\n",
    "    p.join()"
   ]
  },
  {
   "cell_type": "code",
   "execution_count": 9,
   "id": "88fb6473-3509-4bf6-9614-5c8bda4d8695",
   "metadata": {},
   "outputs": [],
   "source": [
    "# Q.4\n",
    "# It's a mechanism provided by the multiprocessing module for effictively managing\n",
    "# a pool of worker processes to execute tasks concurrently.\n",
    "# It simplifies parallelizing tasks across multiple CPU cores\n",
    "# Advantages\n",
    "# Efficient Parallelism : Leverages multiple cores for faster execution of CPU-bOUND tasks\n",
    "# Simplified Management: Handles process creations task distribution and result collection\n",
    "# Scalability: Easily adjusts the number of worker processes based on available cores and task requirment\n",
    "# Code reusability, Data Parallelism: Ideal for applying the same function to multiple independent data items."
   ]
  },
  {
   "cell_type": "code",
   "execution_count": 20,
   "id": "8132aee1-015f-47c2-8627-eff8a316365a",
   "metadata": {},
   "outputs": [
    {
     "name": "stdout",
     "output_type": "stream",
     "text": [
      "[1, 4, 9, 16, 25]\n"
     ]
    }
   ],
   "source": [
    "# Q.5\n",
    "# Import the multiprocessing module\n",
    "import multiprocessing\n",
    "# Define the function that you want to execute in parallel across multiple input values.\n",
    "def my_function(x):\n",
    "    return x * x\n",
    "# Import the multiprocessing module\n",
    "if __name__ == '__main__':\n",
    "# Create a Pool object using Multiprocessing.pool() constructor.You can specify the number of worker processes\n",
    "# to use as an argument to the constructor.\n",
    "    with multiprocessing.Pool(processes=4) as pool:\n",
    "# Submit the tasks to the process pool using one methods provided by pool map()\n",
    "     result = pool.map(my_function,[1,2,3,4,5])\n",
    "# Wait for the tasks to complete using the join() method of the Pool object. \n",
    "# This method blocks the main process until all workers processes have completed their tasks.\n",
    "     pool.close()\n",
    "     pool.join()\n",
    "# Retrieve the results of the computation\n",
    "    print(result)"
   ]
  },
  {
   "cell_type": "code",
   "execution_count": 24,
   "id": "1d4ce29b-868e-43e7-bb63-735c0abeeafe",
   "metadata": {},
   "outputs": [
    {
     "name": "stdout",
     "output_type": "stream",
     "text": [
      "1324\n",
      "\n",
      "\n",
      "\n"
     ]
    }
   ],
   "source": [
    "import multiprocessing\n",
    "def process(num):\n",
    "    print(num)\n",
    "if __name__=='__main__':\n",
    "    with multiprocessing.Pool(processes=4) as pool:\n",
    "        pool.map(process,[1,2,3,4])"
   ]
  },
  {
   "cell_type": "code",
   "execution_count": null,
   "id": "272c662b-daec-48b5-9689-a37b62ab9b70",
   "metadata": {},
   "outputs": [],
   "source": []
  }
 ],
 "metadata": {
  "kernelspec": {
   "display_name": "Python 3 (ipykernel)",
   "language": "python",
   "name": "python3"
  },
  "language_info": {
   "codemirror_mode": {
    "name": "ipython",
    "version": 3
   },
   "file_extension": ".py",
   "mimetype": "text/x-python",
   "name": "python",
   "nbconvert_exporter": "python",
   "pygments_lexer": "ipython3",
   "version": "3.10.8"
  }
 },
 "nbformat": 4,
 "nbformat_minor": 5
}
